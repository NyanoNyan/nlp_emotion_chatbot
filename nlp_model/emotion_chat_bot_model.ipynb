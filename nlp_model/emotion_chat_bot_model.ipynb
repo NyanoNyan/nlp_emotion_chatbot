{
 "cells": [
  {
   "cell_type": "code",
   "execution_count": 1,
   "metadata": {},
   "outputs": [],
   "source": [
    "import pandas as pd\n",
    "import numpy as np\n",
    "import csv\n",
    "import pickle\n",
    "import matplotlib.pyplot as plt\n",
    "\n",
    "import tensorflow as tf\n",
    "from tensorflow.keras.preprocessing.text import Tokenizer\n",
    "from tensorflow.keras.preprocessing.sequence import pad_sequences\n",
    "from sklearn.model_selection import train_test_split\n",
    "\n",
    "from rake_nltk import Rake"
   ]
  },
  {
   "cell_type": "code",
   "execution_count": 2,
   "metadata": {},
   "outputs": [],
   "source": [
    "path='/storage/personal_data/emotions_dataset/train.txt'"
   ]
  },
  {
   "cell_type": "code",
   "execution_count": 3,
   "metadata": {},
   "outputs": [],
   "source": [
    "df = pd.read_csv(path, sep=';', header=None)"
   ]
  },
  {
   "cell_type": "code",
   "execution_count": 4,
   "metadata": {},
   "outputs": [
    {
     "data": {
      "text/html": [
       "<div>\n",
       "<style scoped>\n",
       "    .dataframe tbody tr th:only-of-type {\n",
       "        vertical-align: middle;\n",
       "    }\n",
       "\n",
       "    .dataframe tbody tr th {\n",
       "        vertical-align: top;\n",
       "    }\n",
       "\n",
       "    .dataframe thead th {\n",
       "        text-align: right;\n",
       "    }\n",
       "</style>\n",
       "<table border=\"1\" class=\"dataframe\">\n",
       "  <thead>\n",
       "    <tr style=\"text-align: right;\">\n",
       "      <th></th>\n",
       "      <th>0</th>\n",
       "      <th>1</th>\n",
       "    </tr>\n",
       "  </thead>\n",
       "  <tbody>\n",
       "    <tr>\n",
       "      <th>0</th>\n",
       "      <td>i didnt feel humiliated</td>\n",
       "      <td>sadness</td>\n",
       "    </tr>\n",
       "    <tr>\n",
       "      <th>1</th>\n",
       "      <td>i can go from feeling so hopeless to so damned...</td>\n",
       "      <td>sadness</td>\n",
       "    </tr>\n",
       "    <tr>\n",
       "      <th>2</th>\n",
       "      <td>im grabbing a minute to post i feel greedy wrong</td>\n",
       "      <td>anger</td>\n",
       "    </tr>\n",
       "    <tr>\n",
       "      <th>3</th>\n",
       "      <td>i am ever feeling nostalgic about the fireplac...</td>\n",
       "      <td>love</td>\n",
       "    </tr>\n",
       "    <tr>\n",
       "      <th>4</th>\n",
       "      <td>i am feeling grouchy</td>\n",
       "      <td>anger</td>\n",
       "    </tr>\n",
       "  </tbody>\n",
       "</table>\n",
       "</div>"
      ],
      "text/plain": [
       "                                                   0        1\n",
       "0                            i didnt feel humiliated  sadness\n",
       "1  i can go from feeling so hopeless to so damned...  sadness\n",
       "2   im grabbing a minute to post i feel greedy wrong    anger\n",
       "3  i am ever feeling nostalgic about the fireplac...     love\n",
       "4                               i am feeling grouchy    anger"
      ]
     },
     "execution_count": 4,
     "metadata": {},
     "output_type": "execute_result"
    }
   ],
   "source": [
    "df.head()"
   ]
  },
  {
   "cell_type": "code",
   "execution_count": 5,
   "metadata": {},
   "outputs": [],
   "source": [
    "df.rename(columns={0: \"statments\", 1: \"emotion\"}, inplace=True)"
   ]
  },
  {
   "cell_type": "code",
   "execution_count": 6,
   "metadata": {},
   "outputs": [
    {
     "data": {
      "text/plain": [
       "joy         5362\n",
       "sadness     4666\n",
       "anger       2159\n",
       "fear        1937\n",
       "love        1304\n",
       "surprise     572\n",
       "Name: emotion, dtype: int64"
      ]
     },
     "execution_count": 6,
     "metadata": {},
     "output_type": "execute_result"
    }
   ],
   "source": [
    "df.emotion.value_counts()"
   ]
  },
  {
   "cell_type": "code",
   "execution_count": 7,
   "metadata": {},
   "outputs": [],
   "source": [
    "df = df[df['emotion'].isin(['joy', 'sadness'])]"
   ]
  },
  {
   "cell_type": "code",
   "execution_count": 8,
   "metadata": {},
   "outputs": [
    {
     "data": {
      "text/html": [
       "<div>\n",
       "<style scoped>\n",
       "    .dataframe tbody tr th:only-of-type {\n",
       "        vertical-align: middle;\n",
       "    }\n",
       "\n",
       "    .dataframe tbody tr th {\n",
       "        vertical-align: top;\n",
       "    }\n",
       "\n",
       "    .dataframe thead th {\n",
       "        text-align: right;\n",
       "    }\n",
       "</style>\n",
       "<table border=\"1\" class=\"dataframe\">\n",
       "  <thead>\n",
       "    <tr style=\"text-align: right;\">\n",
       "      <th></th>\n",
       "      <th>statments</th>\n",
       "      <th>emotion</th>\n",
       "    </tr>\n",
       "  </thead>\n",
       "  <tbody>\n",
       "    <tr>\n",
       "      <th>0</th>\n",
       "      <td>i didnt feel humiliated</td>\n",
       "      <td>sadness</td>\n",
       "    </tr>\n",
       "    <tr>\n",
       "      <th>1</th>\n",
       "      <td>i can go from feeling so hopeless to so damned...</td>\n",
       "      <td>sadness</td>\n",
       "    </tr>\n",
       "    <tr>\n",
       "      <th>5</th>\n",
       "      <td>ive been feeling a little burdened lately wasn...</td>\n",
       "      <td>sadness</td>\n",
       "    </tr>\n",
       "    <tr>\n",
       "      <th>8</th>\n",
       "      <td>i have been with petronas for years i feel tha...</td>\n",
       "      <td>joy</td>\n",
       "    </tr>\n",
       "    <tr>\n",
       "      <th>10</th>\n",
       "      <td>i feel like i have to make the suffering i m s...</td>\n",
       "      <td>sadness</td>\n",
       "    </tr>\n",
       "  </tbody>\n",
       "</table>\n",
       "</div>"
      ],
      "text/plain": [
       "                                            statments  emotion\n",
       "0                             i didnt feel humiliated  sadness\n",
       "1   i can go from feeling so hopeless to so damned...  sadness\n",
       "5   ive been feeling a little burdened lately wasn...  sadness\n",
       "8   i have been with petronas for years i feel tha...      joy\n",
       "10  i feel like i have to make the suffering i m s...  sadness"
      ]
     },
     "execution_count": 8,
     "metadata": {},
     "output_type": "execute_result"
    }
   ],
   "source": [
    "df.head()"
   ]
  },
  {
   "cell_type": "code",
   "execution_count": 9,
   "metadata": {},
   "outputs": [],
   "source": [
    "def change_response(data):\n",
    "    if data == 'joy':\n",
    "        return 1\n",
    "    elif (data == \"sadness\"):\n",
    "        return 0"
   ]
  },
  {
   "cell_type": "code",
   "execution_count": 10,
   "metadata": {},
   "outputs": [],
   "source": [
    "df['emotion'] = df['emotion'].apply(lambda x: change_response(x))"
   ]
  },
  {
   "cell_type": "code",
   "execution_count": 11,
   "metadata": {},
   "outputs": [],
   "source": [
    "df_changed_int = df"
   ]
  },
  {
   "cell_type": "code",
   "execution_count": 12,
   "metadata": {},
   "outputs": [
    {
     "data": {
      "text/html": [
       "<div>\n",
       "<style scoped>\n",
       "    .dataframe tbody tr th:only-of-type {\n",
       "        vertical-align: middle;\n",
       "    }\n",
       "\n",
       "    .dataframe tbody tr th {\n",
       "        vertical-align: top;\n",
       "    }\n",
       "\n",
       "    .dataframe thead th {\n",
       "        text-align: right;\n",
       "    }\n",
       "</style>\n",
       "<table border=\"1\" class=\"dataframe\">\n",
       "  <thead>\n",
       "    <tr style=\"text-align: right;\">\n",
       "      <th></th>\n",
       "      <th>statments</th>\n",
       "      <th>emotion</th>\n",
       "    </tr>\n",
       "  </thead>\n",
       "  <tbody>\n",
       "    <tr>\n",
       "      <th>0</th>\n",
       "      <td>i didnt feel humiliated</td>\n",
       "      <td>0</td>\n",
       "    </tr>\n",
       "    <tr>\n",
       "      <th>1</th>\n",
       "      <td>i can go from feeling so hopeless to so damned...</td>\n",
       "      <td>0</td>\n",
       "    </tr>\n",
       "    <tr>\n",
       "      <th>5</th>\n",
       "      <td>ive been feeling a little burdened lately wasn...</td>\n",
       "      <td>0</td>\n",
       "    </tr>\n",
       "    <tr>\n",
       "      <th>8</th>\n",
       "      <td>i have been with petronas for years i feel tha...</td>\n",
       "      <td>1</td>\n",
       "    </tr>\n",
       "    <tr>\n",
       "      <th>10</th>\n",
       "      <td>i feel like i have to make the suffering i m s...</td>\n",
       "      <td>0</td>\n",
       "    </tr>\n",
       "  </tbody>\n",
       "</table>\n",
       "</div>"
      ],
      "text/plain": [
       "                                            statments  emotion\n",
       "0                             i didnt feel humiliated        0\n",
       "1   i can go from feeling so hopeless to so damned...        0\n",
       "5   ive been feeling a little burdened lately wasn...        0\n",
       "8   i have been with petronas for years i feel tha...        1\n",
       "10  i feel like i have to make the suffering i m s...        0"
      ]
     },
     "execution_count": 12,
     "metadata": {},
     "output_type": "execute_result"
    }
   ],
   "source": [
    "df_changed_int.head()"
   ]
  },
  {
   "cell_type": "code",
   "execution_count": 13,
   "metadata": {},
   "outputs": [
    {
     "data": {
      "text/plain": [
       "'i can go from feeling so hopeless to so damned hopeful just from being around someone who cares and is awake'"
      ]
     },
     "execution_count": 13,
     "metadata": {},
     "output_type": "execute_result"
    }
   ],
   "source": [
    "df_changed_int.statments[1]"
   ]
  },
  {
   "cell_type": "code",
   "execution_count": 14,
   "metadata": {},
   "outputs": [
    {
     "data": {
      "text/plain": [
       "statments    0\n",
       "emotion      0\n",
       "dtype: int64"
      ]
     },
     "execution_count": 14,
     "metadata": {},
     "output_type": "execute_result"
    }
   ],
   "source": [
    "df_changed_int.isna().sum()"
   ]
  },
  {
   "cell_type": "code",
   "execution_count": 15,
   "metadata": {},
   "outputs": [],
   "source": [
    "r = Rake()"
   ]
  },
  {
   "cell_type": "code",
   "execution_count": 16,
   "metadata": {},
   "outputs": [],
   "source": [
    "myText = 'i can go from feeling so hopeless to so damned hopeful just from being around someone who cares and is awake'"
   ]
  },
  {
   "cell_type": "code",
   "execution_count": 17,
   "metadata": {},
   "outputs": [],
   "source": [
    "r.extract_keywords_from_text(myText)"
   ]
  },
  {
   "cell_type": "code",
   "execution_count": 18,
   "metadata": {},
   "outputs": [
    {
     "data": {
      "text/plain": [
       "['damned hopeful',\n",
       " 'around someone',\n",
       " 'hopeless',\n",
       " 'go',\n",
       " 'feeling',\n",
       " 'cares',\n",
       " 'awake']"
      ]
     },
     "execution_count": 18,
     "metadata": {},
     "output_type": "execute_result"
    }
   ],
   "source": [
    "r.get_ranked_phrases()"
   ]
  },
  {
   "cell_type": "code",
   "execution_count": 19,
   "metadata": {},
   "outputs": [
    {
     "data": {
      "text/plain": [
       "[(4.0, 'damned hopeful'),\n",
       " (4.0, 'around someone'),\n",
       " (1.0, 'hopeless'),\n",
       " (1.0, 'go'),\n",
       " (1.0, 'feeling'),\n",
       " (1.0, 'cares'),\n",
       " (1.0, 'awake')]"
      ]
     },
     "execution_count": 19,
     "metadata": {},
     "output_type": "execute_result"
    }
   ],
   "source": [
    "r.get_ranked_phrases_with_scores()"
   ]
  },
  {
   "cell_type": "code",
   "execution_count": 20,
   "metadata": {},
   "outputs": [],
   "source": [
    "### Training and modelling time"
   ]
  },
  {
   "cell_type": "code",
   "execution_count": 21,
   "metadata": {},
   "outputs": [],
   "source": [
    "X_train,X_test,y_train,y_test=train_test_split(df_changed_int['statments'],df_changed_int['emotion'].values,test_size=0.20)"
   ]
  },
  {
   "cell_type": "code",
   "execution_count": 22,
   "metadata": {},
   "outputs": [],
   "source": [
    "vocab_size = 500\n",
    "embedding_dim = 16\n",
    "max_length = 50\n",
    "trunc_type='post'\n",
    "padding_type='post'\n",
    "oov_tok = \"<OOV>\""
   ]
  },
  {
   "cell_type": "code",
   "execution_count": 23,
   "metadata": {},
   "outputs": [],
   "source": [
    "tokenizer = Tokenizer(num_words = vocab_size, oov_token=oov_tok)\n",
    "tokenizer.fit_on_texts(X_train)\n",
    "word_index = tokenizer.word_index\n",
    "\n",
    "training_sequences = tokenizer.texts_to_sequences(X_train)\n",
    "training_padded = pad_sequences(training_sequences,maxlen=max_length, \n",
    "                                truncating=trunc_type, padding=padding_type)\n",
    "\n",
    "validation_sequences = tokenizer.texts_to_sequences(X_test)\n",
    "validation_padded = pad_sequences(validation_sequences,maxlen=max_length)\n",
    "\n",
    "training_labels_final = np.array(y_train)\n",
    "validation_labels_final = np.array(y_test)"
   ]
  },
  {
   "cell_type": "code",
   "execution_count": 24,
   "metadata": {},
   "outputs": [
    {
     "data": {
      "text/plain": [
       "14613    i feel that would be a far more considerate an...\n",
       "13662                i feel so fucking stupid for doing so\n",
       "12231    i read them it is the only point of my day whe...\n",
       "8291     im sharing our school room because im sure im ...\n",
       "4185                               i feel pretty fantastic\n",
       "                               ...                        \n",
       "7932     i feel deeply humiliated when i read in ari be...\n",
       "11813    i feel like weve been doomed from the start an...\n",
       "1936     i feel i would be ungrateful to god and unduti...\n",
       "3643         i do feel alittle submissive it isnt the same\n",
       "8458     i looked down at my sweet boy hudson i knew th...\n",
       "Name: statments, Length: 8022, dtype: object"
      ]
     },
     "execution_count": 24,
     "metadata": {},
     "output_type": "execute_result"
    }
   ],
   "source": [
    "X_train"
   ]
  },
  {
   "cell_type": "code",
   "execution_count": 25,
   "metadata": {},
   "outputs": [
    {
     "data": {
      "text/plain": [
       "[2, 3, 8, 63, 27, 7, 379, 35, 1, 4, 1, 1, 28, 6, 240, 10, 1]"
      ]
     },
     "execution_count": 25,
     "metadata": {},
     "output_type": "execute_result"
    }
   ],
   "source": [
    "training_sequences[0]"
   ]
  },
  {
   "cell_type": "code",
   "execution_count": 26,
   "metadata": {},
   "outputs": [],
   "source": [
    "from keras.regularizers import l2"
   ]
  },
  {
   "cell_type": "code",
   "execution_count": 27,
   "metadata": {},
   "outputs": [
    {
     "name": "stdout",
     "output_type": "stream",
     "text": [
      "Model: \"sequential\"\n",
      "_________________________________________________________________\n",
      "Layer (type)                 Output Shape              Param #   \n",
      "=================================================================\n",
      "embedding (Embedding)        (None, 50, 16)            8000      \n",
      "_________________________________________________________________\n",
      "conv1d (Conv1D)              (None, 46, 16)            1296      \n",
      "_________________________________________________________________\n",
      "global_max_pooling1d (Global (None, 16)                0         \n",
      "_________________________________________________________________\n",
      "dropout (Dropout)            (None, 16)                0         \n",
      "_________________________________________________________________\n",
      "dense (Dense)                (None, 1)                 17        \n",
      "=================================================================\n",
      "Total params: 9,313\n",
      "Trainable params: 9,313\n",
      "Non-trainable params: 0\n",
      "_________________________________________________________________\n"
     ]
    }
   ],
   "source": [
    "# model = tf.keras.Sequential([\n",
    "#     tf.keras.layers.Embedding(vocab_size, embedding_dim, input_length=max_length),\n",
    "#     tf.keras.layers.Conv1D(16, 5, activation='relu'),\n",
    "#     tf.keras.layers.GlobalMaxPooling1D(),\n",
    "#     tf.keras.layers.Dropout(0.65),\n",
    "#     tf.keras.layers.Dense(1, activation='sigmoid')\n",
    "# ])\n",
    "\n",
    "# lr = 0.00005\n",
    "# model.compile(loss='binary_crossentropy',\n",
    "#               optimizer= tf.keras.optimizers.Adam(learning_rate=lr),\n",
    "#               metrics=['accuracy'])\n",
    "# model.summary()\n",
    "\n",
    "model = tf.keras.Sequential([\n",
    "    tf.keras.layers.Embedding(vocab_size, embedding_dim, input_length=max_length),\n",
    "    tf.keras.layers.Conv1D(16, 5, activation='relu'),\n",
    "    tf.keras.layers.GlobalMaxPooling1D(),\n",
    "    tf.keras.layers.Dropout(0.6),\n",
    "    tf.keras.layers.Dense(1, activation='sigmoid')\n",
    "])\n",
    "\n",
    "lr = 0.001\n",
    "model.compile(loss='binary_crossentropy',\n",
    "              optimizer= tf.keras.optimizers.Adam(learning_rate=lr),\n",
    "              metrics=['accuracy'])\n",
    "model.summary()"
   ]
  },
  {
   "cell_type": "code",
   "execution_count": null,
   "metadata": {},
   "outputs": [],
   "source": [
    "# %%time\n",
    "# num_epochs = 70\n",
    "# history = model.fit(training_padded, training_labels_final, epochs=num_epochs,\n",
    "#                     validation_data=(validation_padded, validation_labels_final))"
   ]
  },
  {
   "cell_type": "code",
   "execution_count": 30,
   "metadata": {},
   "outputs": [
    {
     "name": "stdout",
     "output_type": "stream",
     "text": [
      "Epoch 1/10\n",
      "251/251 [==============================] - 1s 3ms/step - loss: 0.6810 - accuracy: 0.5795 - val_loss: 0.6468 - val_accuracy: 0.7488\n",
      "Epoch 2/10\n",
      "251/251 [==============================] - 1s 2ms/step - loss: 0.4872 - accuracy: 0.8209 - val_loss: 0.3868 - val_accuracy: 0.8220\n",
      "Epoch 3/10\n",
      "251/251 [==============================] - 1s 2ms/step - loss: 0.3109 - accuracy: 0.8711 - val_loss: 0.3202 - val_accuracy: 0.8410\n",
      "Epoch 4/10\n",
      "251/251 [==============================] - 1s 2ms/step - loss: 0.2646 - accuracy: 0.8858 - val_loss: 0.3081 - val_accuracy: 0.8470\n",
      "Epoch 5/10\n",
      "251/251 [==============================] - 1s 2ms/step - loss: 0.2449 - accuracy: 0.8929 - val_loss: 0.3128 - val_accuracy: 0.8425\n",
      "Epoch 6/10\n",
      "251/251 [==============================] - 1s 2ms/step - loss: 0.2351 - accuracy: 0.8953 - val_loss: 0.3169 - val_accuracy: 0.8405\n",
      "Epoch 7/10\n",
      "251/251 [==============================] - 1s 2ms/step - loss: 0.2365 - accuracy: 0.8953 - val_loss: 0.3207 - val_accuracy: 0.8395\n",
      "Epoch 8/10\n",
      "251/251 [==============================] - 1s 2ms/step - loss: 0.2257 - accuracy: 0.9006 - val_loss: 0.3246 - val_accuracy: 0.8365\n",
      "Epoch 9/10\n",
      "251/251 [==============================] - 1s 2ms/step - loss: 0.2186 - accuracy: 0.9023 - val_loss: 0.3238 - val_accuracy: 0.8370\n",
      "Epoch 10/10\n",
      "251/251 [==============================] - 1s 3ms/step - loss: 0.2149 - accuracy: 0.9069 - val_loss: 0.3284 - val_accuracy: 0.8395\n",
      "CPU times: user 11.8 s, sys: 1.88 s, total: 13.6 s\n",
      "Wall time: 6.99 s\n"
     ]
    }
   ],
   "source": [
    "%%time\n",
    "num_epochs = 10\n",
    "history = model.fit(training_padded, training_labels_final, epochs=num_epochs,\n",
    "                    validation_data=(validation_padded, validation_labels_final))"
   ]
  },
  {
   "cell_type": "code",
   "execution_count": 31,
   "metadata": {},
   "outputs": [
    {
     "data": {
      "image/png": "[encoded data removed]",
      "text/plain": [
       "<Figure size 432x288 with 1 Axes>"
      ]
     },
     "metadata": {
      "needs_background": "light"
     },
     "output_type": "display_data"
    },
    {
     "data": {
      "image/png": "[encoded data removed]",
      "text/plain": [
       "<Figure size 432x288 with 1 Axes>"
      ]
     },
     "metadata": {
      "needs_background": "light"
     },
     "output_type": "display_data"
    }
   ],
   "source": [
    "def plot_graphs(history, string):\n",
    "  plt.plot(history.history[string])\n",
    "  plt.plot(history.history['val_'+string])\n",
    "  plt.xlabel(\"Epochs\")\n",
    "  plt.ylabel(string)\n",
    "  plt.legend([string, 'val_'+string])\n",
    "  plt.show()\n",
    "  \n",
    "plot_graphs(history, \"accuracy\")\n",
    "plot_graphs(history, \"loss\")"
   ]
  },
  {
   "cell_type": "code",
   "execution_count": 32,
   "metadata": {},
   "outputs": [],
   "source": [
    "def predict_sentiment(model, reviews):\n",
    "    \n",
    "    padding_type='post'\n",
    "    sample_sequences = tokenizer.texts_to_sequences(reviews)\n",
    "    fakes_padded = pad_sequences(sample_sequences, padding=padding_type, maxlen=max_length) \n",
    "    \n",
    "    classes = model.predict(fakes_padded)\n",
    "\n",
    "    # The closer the class is to 1, the more positive the review is deemed to be\n",
    "    for x in range(len(reviews)):\n",
    "      print(reviews[x])\n",
    "      print(classes[x])\n",
    "      print('\\n')"
   ]
  },
  {
   "cell_type": "code",
   "execution_count": 33,
   "metadata": {},
   "outputs": [
    {
     "name": "stdout",
     "output_type": "stream",
     "text": [
      "I have been feeling very bad\n",
      "[0.0153566]\n",
      "\n",
      "\n",
      "I have been feeling very happy today\n",
      "[0.96988297]\n",
      "\n",
      "\n",
      "I think the world is ending\n",
      "[0.6377342]\n",
      "\n",
      "\n",
      "Sometimes I sleep alone\n",
      "[0.00836894]\n",
      "\n",
      "\n",
      "I think I don't have any friends\n",
      "[0.6377342]\n",
      "\n",
      "\n",
      "I just feel so exhausted, I don't know what to do\n",
      "[2.402112e-06]\n",
      "\n",
      "\n",
      "It's been such a long day and I honestly feel like there's still so much to do!\n",
      "[0.67873055]\n",
      "\n",
      "\n",
      "Everything is making me feel terrible I don't know how I can go like this anymore\n",
      "[0.00395685]\n",
      "\n",
      "\n",
      "I'm so alone and I think everyone else would be better off without me\n",
      "[0.10046801]\n",
      "\n",
      "\n",
      "This was the best day ever!\n",
      "[0.65948385]\n",
      "\n",
      "\n",
      "I don't feel like getting out of bed or even having fun, nothing is the same anymore\n",
      "[0.64830554]\n",
      "\n",
      "\n"
     ]
    }
   ],
   "source": [
    "predict_sentiment(model, ['I have been feeling very bad',\n",
    "                          \"I have been feeling very happy today\",\n",
    "                         \"I think the world is ending\",\n",
    "                         \"Sometimes I sleep alone\",\n",
    "                         \"I think I don't have any friends\",\n",
    "                         \"I just feel so exhausted, I don't know what to do\",\n",
    "                         \"It's been such a long day and I honestly feel like there's still so much to do!\",\n",
    "                         \"Everything is making me feel terrible I don't know how I can go like this anymore\",\n",
    "                         \"I'm so alone and I think everyone else would be better off without me\",\n",
    "                         \"This was the best day ever!\",\n",
    "                         \"I don't feel like getting out of bed or even having fun, nothing is the same anymore\"])"
   ]
  },
  {
   "cell_type": "code",
   "execution_count": null,
   "metadata": {},
   "outputs": [],
   "source": [
    "isEnd = False\n",
    "\n",
    "while True:\n",
    "    val = input('How are you feeling today: ')\n",
    "    \n",
    "    if val == 'end':\n",
    "        break\n",
    "        \n",
    "    predict_sentiment(model, [val])"
   ]
  },
  {
   "cell_type": "code",
   "execution_count": 34,
   "metadata": {},
   "outputs": [],
   "source": [
    "# model.save('emotions.h5')\n",
    "\n",
    "# with open('tokenizer.pkl', 'wb') as f:\n",
    "#     pickle.dump(tokenizer, f)"
   ]
  },
  {
   "cell_type": "code",
   "execution_count": null,
   "metadata": {},
   "outputs": [],
   "source": []
  },
  {
   "cell_type": "code",
   "execution_count": 35,
   "metadata": {},
   "outputs": [],
   "source": [
    "from sklearn.metrics import classification_report, confusion_matrix"
   ]
  },
  {
   "cell_type": "code",
   "execution_count": 36,
   "metadata": {},
   "outputs": [
    {
     "name": "stdout",
     "output_type": "stream",
     "text": [
      "WARNING:tensorflow:From <ipython-input-36-d4f2298ff912>:1: Sequential.predict_classes (from tensorflow.python.keras.engine.sequential) is deprecated and will be removed after 2021-01-01.\n",
      "Instructions for updating:\n",
      "Please use instead:* `np.argmax(model.predict(x), axis=-1)`,   if your model does multi-class classification   (e.g. if it uses a `softmax` last-layer activation).* `(model.predict(x) > 0.5).astype(\"int32\")`,   if your model does binary classification   (e.g. if it uses a `sigmoid` last-layer activation).\n",
      "              precision    recall  f1-score   support\n",
      "\n",
      "           0       0.90      0.74      0.81       926\n",
      "           1       0.80      0.93      0.86      1080\n",
      "\n",
      "    accuracy                           0.84      2006\n",
      "   macro avg       0.85      0.83      0.84      2006\n",
      "weighted avg       0.85      0.84      0.84      2006\n",
      "\n"
     ]
    }
   ],
   "source": [
    "predictions = model.predict_classes(validation_padded)\n",
    "print(classification_report(validation_labels_final, predictions))"
   ]
  },
  {
   "cell_type": "code",
   "execution_count": null,
   "metadata": {},
   "outputs": [],
   "source": []
  }
 ],
 "metadata": {
  "kernelspec": {
   "display_name": "Python 3",
   "language": "python",
   "name": "python3"
  },
  "language_info": {
   "codemirror_mode": {
    "name": "ipython",
    "version": 3
   },
   "file_extension": ".py",
   "mimetype": "text/x-python",
   "name": "python",
   "nbconvert_exporter": "python",
   "pygments_lexer": "ipython3",
   "version": "3.6.8"
  }
 },
 "nbformat": 4,
 "nbformat_minor": 4
}
